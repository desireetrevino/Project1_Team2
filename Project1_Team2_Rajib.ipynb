{
 "cells": [
  {
   "cell_type": "code",
   "execution_count": 1,
   "id": "2fd833c6",
   "metadata": {},
   "outputs": [],
   "source": [
    "import requests\n",
    "import json\n",
    "from pprint import pprint\n",
    "import pandas as pd\n",
    "import matplotlib.pyplot as plt\n",
    "from datetime import datetime\n",
    "import yfinance as yf\n",
    "import seaborn as sns"
   ]
  },
  {
   "cell_type": "markdown",
   "id": "eb823ba3",
   "metadata": {},
   "source": [
    "Date Calculation "
   ]
  },
  {
   "cell_type": "code",
   "execution_count": 2,
   "id": "3261970f",
   "metadata": {},
   "outputs": [],
   "source": [
    "end_date = datetime.today().strftime('%Y-%m-%d')\n",
    "end_date_split = end_date.split(\"-\")\n",
    "end_date_year = end_date_split[0]\n",
    "end_date_month = end_date_split[1]\n",
    "end_date_day = end_date_split[2]\n",
    "beg_date_year = int(end_date_year) -5 \n",
    "beg_date = str(beg_date_year) + \"-\" + end_date_month + \"-\" + end_date_day\n",
    "\n"
   ]
  },
  {
   "cell_type": "markdown",
   "id": "bf99e311",
   "metadata": {},
   "source": [
    "Telecom Data Analysis"
   ]
  },
  {
   "cell_type": "code",
   "execution_count": 4,
   "id": "1fdb372e",
   "metadata": {},
   "outputs": [
    {
     "name": "stdout",
     "output_type": "stream",
     "text": [
      "[*********************100%***********************]  1 of 1 completed\n"
     ]
    },
    {
     "name": "stderr",
     "output_type": "stream",
     "text": [
      "C:\\Users\\RMaji\\AppData\\Local\\Temp\\ipykernel_29892\\3541207666.py:20: FutureWarning: The frame.append method is deprecated and will be removed from pandas in a future version. Use pandas.concat instead.\n",
      "  telecom_outsideus_stock_df = telecom_outsideus_stock_df.append(data, ignore_index = True)\n"
     ]
    },
    {
     "name": "stdout",
     "output_type": "stream",
     "text": [
      "[*********************100%***********************]  1 of 1 completed\n"
     ]
    },
    {
     "name": "stderr",
     "output_type": "stream",
     "text": [
      "C:\\Users\\RMaji\\AppData\\Local\\Temp\\ipykernel_29892\\3541207666.py:20: FutureWarning: The frame.append method is deprecated and will be removed from pandas in a future version. Use pandas.concat instead.\n",
      "  telecom_outsideus_stock_df = telecom_outsideus_stock_df.append(data, ignore_index = True)\n"
     ]
    },
    {
     "name": "stdout",
     "output_type": "stream",
     "text": [
      "[*********************100%***********************]  1 of 1 completed\n"
     ]
    },
    {
     "name": "stderr",
     "output_type": "stream",
     "text": [
      "C:\\Users\\RMaji\\AppData\\Local\\Temp\\ipykernel_29892\\3541207666.py:20: FutureWarning: The frame.append method is deprecated and will be removed from pandas in a future version. Use pandas.concat instead.\n",
      "  telecom_outsideus_stock_df = telecom_outsideus_stock_df.append(data, ignore_index = True)\n"
     ]
    },
    {
     "name": "stdout",
     "output_type": "stream",
     "text": [
      "[*********************100%***********************]  1 of 1 completed\n"
     ]
    },
    {
     "name": "stderr",
     "output_type": "stream",
     "text": [
      "C:\\Users\\RMaji\\AppData\\Local\\Temp\\ipykernel_29892\\3541207666.py:20: FutureWarning: The frame.append method is deprecated and will be removed from pandas in a future version. Use pandas.concat instead.\n",
      "  telecom_outsideus_stock_df = telecom_outsideus_stock_df.append(data, ignore_index = True)\n"
     ]
    },
    {
     "data": {
      "text/html": [
       "<div>\n",
       "<style scoped>\n",
       "    .dataframe tbody tr th:only-of-type {\n",
       "        vertical-align: middle;\n",
       "    }\n",
       "\n",
       "    .dataframe tbody tr th {\n",
       "        vertical-align: top;\n",
       "    }\n",
       "\n",
       "    .dataframe thead th {\n",
       "        text-align: right;\n",
       "    }\n",
       "</style>\n",
       "<table border=\"1\" class=\"dataframe\">\n",
       "  <thead>\n",
       "    <tr style=\"text-align: right;\">\n",
       "      <th></th>\n",
       "      <th>Date</th>\n",
       "      <th>Open</th>\n",
       "      <th>High</th>\n",
       "      <th>Low</th>\n",
       "      <th>Close</th>\n",
       "      <th>Adj Close</th>\n",
       "      <th>Volume</th>\n",
       "      <th>stock_name</th>\n",
       "    </tr>\n",
       "  </thead>\n",
       "  <tbody>\n",
       "    <tr>\n",
       "      <th>0</th>\n",
       "      <td>2018-08-07</td>\n",
       "      <td>16.559999</td>\n",
       "      <td>16.559999</td>\n",
       "      <td>16.48</td>\n",
       "      <td>16.520000</td>\n",
       "      <td>14.865196</td>\n",
       "      <td>355700</td>\n",
       "      <td>DTEGY</td>\n",
       "    </tr>\n",
       "    <tr>\n",
       "      <th>1</th>\n",
       "      <td>2018-08-08</td>\n",
       "      <td>16.490000</td>\n",
       "      <td>16.600000</td>\n",
       "      <td>16.42</td>\n",
       "      <td>16.549999</td>\n",
       "      <td>14.892191</td>\n",
       "      <td>67400</td>\n",
       "      <td>DTEGY</td>\n",
       "    </tr>\n",
       "    <tr>\n",
       "      <th>2</th>\n",
       "      <td>2018-08-09</td>\n",
       "      <td>16.549999</td>\n",
       "      <td>16.570000</td>\n",
       "      <td>16.40</td>\n",
       "      <td>16.410000</td>\n",
       "      <td>14.766214</td>\n",
       "      <td>80300</td>\n",
       "      <td>DTEGY</td>\n",
       "    </tr>\n",
       "    <tr>\n",
       "      <th>3</th>\n",
       "      <td>2018-08-10</td>\n",
       "      <td>15.910000</td>\n",
       "      <td>15.950000</td>\n",
       "      <td>15.82</td>\n",
       "      <td>15.880000</td>\n",
       "      <td>14.289304</td>\n",
       "      <td>105800</td>\n",
       "      <td>DTEGY</td>\n",
       "    </tr>\n",
       "    <tr>\n",
       "      <th>4</th>\n",
       "      <td>2018-08-13</td>\n",
       "      <td>16.030001</td>\n",
       "      <td>16.070000</td>\n",
       "      <td>15.91</td>\n",
       "      <td>15.960000</td>\n",
       "      <td>14.361291</td>\n",
       "      <td>78800</td>\n",
       "      <td>DTEGY</td>\n",
       "    </tr>\n",
       "  </tbody>\n",
       "</table>\n",
       "</div>"
      ],
      "text/plain": [
       "        Date       Open       High    Low      Close  Adj Close  Volume  \\\n",
       "0 2018-08-07  16.559999  16.559999  16.48  16.520000  14.865196  355700   \n",
       "1 2018-08-08  16.490000  16.600000  16.42  16.549999  14.892191   67400   \n",
       "2 2018-08-09  16.549999  16.570000  16.40  16.410000  14.766214   80300   \n",
       "3 2018-08-10  15.910000  15.950000  15.82  15.880000  14.289304  105800   \n",
       "4 2018-08-13  16.030001  16.070000  15.91  15.960000  14.361291   78800   \n",
       "\n",
       "  stock_name  \n",
       "0      DTEGY  \n",
       "1      DTEGY  \n",
       "2      DTEGY  \n",
       "3      DTEGY  \n",
       "4      DTEGY  "
      ]
     },
     "execution_count": 4,
     "metadata": {},
     "output_type": "execute_result"
    }
   ],
   "source": [
    "# get the data\n",
    "telecom_outsideus_stock_df = pd.DataFrame()\n",
    "telecom_outsideus_stock_df[\"Date\"] = ''\n",
    "telecom_outsideus_stock_df[\"Open\"] = ''\n",
    "telecom_outsideus_stock_df[\"High\"] = ''\n",
    "telecom_outsideus_stock_df[\"Low\"] = ''\n",
    "telecom_outsideus_stock_df[\"Close\"] = ''\n",
    "telecom_outsideus_stock_df[\"Adj Close\"] = ''\n",
    "telecom_outsideus_stock_df[\"Volume\"] = ''\n",
    "telecom_outsideus_stock_df[\"stock_name\"] = ''\n",
    "\n",
    "stocks = [\"DTEGY\", \"VOD\", \"GTMEF\",\"AAFRF\"]\n",
    "for stock in stocks : \n",
    "    data = yf.download(stock, start = beg_date,\n",
    "                   end = end_date)\n",
    "    data[\"stock_name\"] = stock\n",
    "    data = data.reset_index()\n",
    "    #stock_df = pd.merge(pd.merge(stock_df,data,on='Date'))\n",
    "    #stock_df = stock_df.merge(data, how='right')\n",
    "    telecom_outsideus_stock_df = telecom_outsideus_stock_df.append(data, ignore_index = True)\n",
    "\n",
    "telecom_outsideus_stock_df.head()"
   ]
  },
  {
   "cell_type": "code",
   "execution_count": 81,
   "id": "98c48cdc",
   "metadata": {},
   "outputs": [
    {
     "name": "stdout",
     "output_type": "stream",
     "text": [
      "[*********************100%***********************]  1 of 1 completed\n"
     ]
    },
    {
     "name": "stderr",
     "output_type": "stream",
     "text": [
      "C:\\Users\\RMaji\\AppData\\Local\\Temp\\ipykernel_20668\\3853538557.py:20: FutureWarning: The frame.append method is deprecated and will be removed from pandas in a future version. Use pandas.concat instead.\n",
      "  stock_df = stock_df.append(data, ignore_index = True)\n"
     ]
    },
    {
     "name": "stdout",
     "output_type": "stream",
     "text": [
      "[*********************100%***********************]  1 of 1 completed\n"
     ]
    },
    {
     "name": "stderr",
     "output_type": "stream",
     "text": [
      "C:\\Users\\RMaji\\AppData\\Local\\Temp\\ipykernel_20668\\3853538557.py:20: FutureWarning: The frame.append method is deprecated and will be removed from pandas in a future version. Use pandas.concat instead.\n",
      "  stock_df = stock_df.append(data, ignore_index = True)\n"
     ]
    },
    {
     "name": "stdout",
     "output_type": "stream",
     "text": [
      "[*********************100%***********************]  1 of 1 completed\n"
     ]
    },
    {
     "name": "stderr",
     "output_type": "stream",
     "text": [
      "C:\\Users\\RMaji\\AppData\\Local\\Temp\\ipykernel_20668\\3853538557.py:20: FutureWarning: The frame.append method is deprecated and will be removed from pandas in a future version. Use pandas.concat instead.\n",
      "  stock_df = stock_df.append(data, ignore_index = True)\n"
     ]
    },
    {
     "data": {
      "text/plain": [
       "Date          3771\n",
       "Open          3771\n",
       "High          3771\n",
       "Low           3771\n",
       "Close         3771\n",
       "Adj Close     3771\n",
       "Volume        3771\n",
       "stock_name    3771\n",
       "dtype: int64"
      ]
     },
     "execution_count": 81,
     "metadata": {},
     "output_type": "execute_result"
    }
   ],
   "source": [
    " \n",
    "# get the data\n",
    "stock_df = pd.DataFrame()\n",
    "stock_df[\"Date\"] = ''\n",
    "stock_df[\"Open\"] = ''\n",
    "stock_df[\"High\"] = ''\n",
    "stock_df[\"Low\"] = ''\n",
    "stock_df[\"Close\"] = ''\n",
    "stock_df[\"Adj Close\"] = ''\n",
    "stock_df[\"Volume\"] = ''\n",
    "stock_df[\"stock_name\"] = ''\n",
    "\n",
    "stocks = [\"TMUS\", \"T\", \"VZ\"]\n",
    "for stock in stocks : \n",
    "    data = yf.download(stock, start = beg_date,\n",
    "                   end = end_date)\n",
    "    data[\"stock_name\"] = stock\n",
    "    data = data.reset_index()\n",
    "    #stock_df = pd.merge(pd.merge(stock_df,data,on='Date'))\n",
    "    #stock_df = stock_df.merge(data, how='right')\n",
    "    stock_df = stock_df.append(data, ignore_index = True)\n",
    "\n",
    "stock_df.count()\n"
   ]
  },
  {
   "cell_type": "code",
   "execution_count": 18,
   "id": "1c27b99f",
   "metadata": {},
   "outputs": [
    {
     "data": {
      "text/html": [
       "<div>\n",
       "<style scoped>\n",
       "    .dataframe tbody tr th:only-of-type {\n",
       "        vertical-align: middle;\n",
       "    }\n",
       "\n",
       "    .dataframe tbody tr th {\n",
       "        vertical-align: top;\n",
       "    }\n",
       "\n",
       "    .dataframe thead th {\n",
       "        text-align: right;\n",
       "    }\n",
       "</style>\n",
       "<table border=\"1\" class=\"dataframe\">\n",
       "  <thead>\n",
       "    <tr style=\"text-align: right;\">\n",
       "      <th></th>\n",
       "      <th>Stock_Name</th>\n",
       "      <th>date</th>\n",
       "      <th>open_price</th>\n",
       "      <th>high_price</th>\n",
       "      <th>low_price</th>\n",
       "      <th>close_price</th>\n",
       "      <th>volume</th>\n",
       "    </tr>\n",
       "  </thead>\n",
       "  <tbody>\n",
       "    <tr>\n",
       "      <th>0</th>\n",
       "      <td>TMUS</td>\n",
       "      <td>2017-08-01</td>\n",
       "      <td>62.10</td>\n",
       "      <td>63.465</td>\n",
       "      <td>61.61</td>\n",
       "      <td>63.07</td>\n",
       "      <td>63.07</td>\n",
       "    </tr>\n",
       "    <tr>\n",
       "      <th>1</th>\n",
       "      <td>TMUS</td>\n",
       "      <td>2017-08-02</td>\n",
       "      <td>63.22</td>\n",
       "      <td>63.725</td>\n",
       "      <td>62.75</td>\n",
       "      <td>63.63</td>\n",
       "      <td>63.63</td>\n",
       "    </tr>\n",
       "    <tr>\n",
       "      <th>2</th>\n",
       "      <td>T</td>\n",
       "      <td>2017-08-01</td>\n",
       "      <td>39.25</td>\n",
       "      <td>39.270</td>\n",
       "      <td>38.71</td>\n",
       "      <td>38.88</td>\n",
       "      <td>38.88</td>\n",
       "    </tr>\n",
       "    <tr>\n",
       "      <th>3</th>\n",
       "      <td>T</td>\n",
       "      <td>2017-08-02</td>\n",
       "      <td>38.98</td>\n",
       "      <td>38.990</td>\n",
       "      <td>38.04</td>\n",
       "      <td>38.27</td>\n",
       "      <td>38.27</td>\n",
       "    </tr>\n",
       "    <tr>\n",
       "      <th>4</th>\n",
       "      <td>VZ</td>\n",
       "      <td>2017-08-01</td>\n",
       "      <td>48.68</td>\n",
       "      <td>49.630</td>\n",
       "      <td>48.53</td>\n",
       "      <td>48.89</td>\n",
       "      <td>48.89</td>\n",
       "    </tr>\n",
       "    <tr>\n",
       "      <th>5</th>\n",
       "      <td>VZ</td>\n",
       "      <td>2017-08-02</td>\n",
       "      <td>48.90</td>\n",
       "      <td>48.930</td>\n",
       "      <td>47.90</td>\n",
       "      <td>48.21</td>\n",
       "      <td>48.21</td>\n",
       "    </tr>\n",
       "  </tbody>\n",
       "</table>\n",
       "</div>"
      ],
      "text/plain": [
       "  Stock_Name        date  open_price  high_price  low_price  close_price  \\\n",
       "0       TMUS  2017-08-01       62.10      63.465      61.61        63.07   \n",
       "1       TMUS  2017-08-02       63.22      63.725      62.75        63.63   \n",
       "2          T  2017-08-01       39.25      39.270      38.71        38.88   \n",
       "3          T  2017-08-02       38.98      38.990      38.04        38.27   \n",
       "4         VZ  2017-08-01       48.68      49.630      48.53        48.89   \n",
       "5         VZ  2017-08-02       48.90      48.930      47.90        48.21   \n",
       "\n",
       "   volume  \n",
       "0   63.07  \n",
       "1   63.63  \n",
       "2   38.88  \n",
       "3   38.27  \n",
       "4   48.89  \n",
       "5   48.21  "
      ]
     },
     "execution_count": 18,
     "metadata": {},
     "output_type": "execute_result"
    }
   ],
   "source": [
    "stocks_df = pd.DataFrame({\n",
    "    \"Stock_Name\": stock_name,\n",
    "    \"date\": date,\n",
    "    \"open_price\": open_price,\n",
    "    \"high_price\": high_price,\n",
    "    \"low_price\": low_price,\n",
    "    \"close_price\": close_price,\n",
    "    \"volume\": close_price\n",
    "})\n",
    "\n",
    "stocks_df"
   ]
  },
  {
   "cell_type": "code",
   "execution_count": null,
   "id": "8b03b999",
   "metadata": {},
   "outputs": [],
   "source": []
  }
 ],
 "metadata": {
  "kernelspec": {
   "display_name": "Python 3 (ipykernel)",
   "language": "python",
   "name": "python3"
  },
  "language_info": {
   "codemirror_mode": {
    "name": "ipython",
    "version": 3
   },
   "file_extension": ".py",
   "mimetype": "text/x-python",
   "name": "python",
   "nbconvert_exporter": "python",
   "pygments_lexer": "ipython3",
   "version": "3.10.12"
  }
 },
 "nbformat": 4,
 "nbformat_minor": 5
}
