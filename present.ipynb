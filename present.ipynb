{
 "cells": [
  {
   "cell_type": "code",
   "execution_count": null,
   "id": "7224803a-49df-4333-8bd2-843916ffb54a",
   "metadata": {},
   "outputs": [],
   "source": [
    "import pandas as pd\n",
    "import numpy as np\n",
    "import matplotlib.pyplot as plt\n",
    "import matplotlib.lines as lines\n",
    "from datetime import datetime\n",
    "import plotly.graph_objects as go\n",
    "import dates"
   ]
  },
  {
   "cell_type": "markdown",
   "id": "b6ea2609-bc4c-416a-af9b-3eb8865f1354",
   "metadata": {},
   "source": [
    "# We looked at stock data to see if covid affected it and found that it did"
   ]
  },
  {
   "cell_type": "markdown",
   "id": "3c57754f-fbeb-4b98-8fca-eec52f40d73e",
   "metadata": {},
   "source": [
    "## Executive Summary / Overview of the project goals - Desiree\n",
    "We thought covid did a thing. "
   ]
  },
  {
   "cell_type": "markdown",
   "id": "b90516ba-c080-497b-845e-efb8cd2a4816",
   "metadata": {},
   "source": [
    "## Data Gathering and Cleaning - Crystal\n",
    "pulled data from yahoo finance using yfinance library, created dataframes (saved to csv if you want to look), and analyzed the data"
   ]
  },
  {
   "cell_type": "markdown",
   "id": "a2eae706-1dac-4379-8705-db88f19ca938",
   "metadata": {},
   "source": [
    "## Approach to Achive Project Goals - Rajib\n",
    "approach was to each choose a sector, etfs/indicies, create line graph\n",
    "problems:\n",
    "- covid started when markets were not open\n",
    "- some indices had no/incomplete data for period \n",
    "- had to try several graphs to actually get to insights"
   ]
  },
  {
   "cell_type": "markdown",
   "id": "c433bdf7-e9a2-4729-9f19-5f2f447d4bb0",
   "metadata": {},
   "source": [
    "## Results\n",
    "bar graph - Rajib\n",
    "line graphs - Vishnu & Theresa"
   ]
  },
  {
   "cell_type": "markdown",
   "id": "50830df8-b3c4-4101-a011-e2c7ab4f4f23",
   "metadata": {},
   "source": [
    "## Next Steps - Jake\n",
    "- Event Study / Event History Analysis\n",
    "inflection point graphs\n",
    "candle sticks"
   ]
  }
 ],
 "metadata": {
  "kernelspec": {
   "display_name": "Python 3 (ipykernel)",
   "language": "python",
   "name": "python3"
  },
  "language_info": {
   "codemirror_mode": {
    "name": "ipython",
    "version": 3
   },
   "file_extension": ".py",
   "mimetype": "text/x-python",
   "name": "python",
   "nbconvert_exporter": "python",
   "pygments_lexer": "ipython3",
   "version": "3.10.12"
  }
 },
 "nbformat": 4,
 "nbformat_minor": 5
}
